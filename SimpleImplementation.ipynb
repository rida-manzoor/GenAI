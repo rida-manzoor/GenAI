{
 "cells": [
  {
   "cell_type": "code",
   "execution_count": 1,
   "id": "a8973557-8145-498d-a3de-d5b90e9bf86e",
   "metadata": {},
   "outputs": [],
   "source": [
    "import openai"
   ]
  },
  {
   "cell_type": "code",
   "execution_count": 2,
   "id": "4bf43a23-d5c6-4aa8-8468-a57e948e9311",
   "metadata": {},
   "outputs": [],
   "source": []
  },
  {
   "cell_type": "markdown",
   "id": "b5e411bb-50f1-4163-b454-c3b4a9bffef2",
   "metadata": {},
   "source": [
    "# Text Processing"
   ]
  },
  {
   "cell_type": "code",
   "execution_count": 3,
   "id": "30134774-3084-410c-919f-6c00d66a996e",
   "metadata": {},
   "outputs": [],
   "source": [
    "# Using the ChatCompletion endpoint with the new API\n",
    "response = openai.chat.completions.create(\n",
    "    model=\"gpt-3.5-turbo\",  \n",
    "    messages=[\n",
    "        {\"role\": \"user\", \"content\": \"What is the capital of France?\"}\n",
    "    ],\n",
    "    max_tokens=1024,\n",
    "    temperature=0.5\n",
    ")"
   ]
  },
  {
   "cell_type": "code",
   "execution_count": 4,
   "id": "6e517be5-8d3f-48b2-8c72-414b4e48f302",
   "metadata": {},
   "outputs": [
    {
     "data": {
      "text/plain": [
       "ChatCompletion(id='chatcmpl-9x9dDe3qXFAQwYCKAflNk7Lk6ec7i', choices=[Choice(finish_reason='stop', index=0, logprobs=None, message=ChatCompletionMessage(content='The capital of France is Paris.', role='assistant', function_call=None, tool_calls=None, refusal=None))], created=1723885403, model='gpt-3.5-turbo-0125', object='chat.completion', system_fingerprint=None, usage=CompletionUsage(completion_tokens=7, prompt_tokens=14, total_tokens=21))"
      ]
     },
     "execution_count": 4,
     "metadata": {},
     "output_type": "execute_result"
    }
   ],
   "source": [
    "response"
   ]
  },
  {
   "cell_type": "markdown",
   "id": "b7672584-3a25-4140-920c-3c5f72ce6d48",
   "metadata": {},
   "source": [
    "# Open AI Chat Completion API Parameters:\n",
    "\n",
    "## Required parameters:\n",
    "1. **messages**\n",
    "2. **model**\n",
    "\n",
    "## Optional Parameters:\n",
    "1. **max_tokens**:  It specifies the maximum number of tokens allowed to GPT for generating the response. It will stop generating responses after a certain number of tokens. The default value is 4096 tokens. The total length of input tokens and generated tokens is limited by the model's context length.\n",
    "2. **temperature**: It adjusts the model's level of creativity, from straightforward to imaginative. The default value is 1, it can be set to 0 or 2. Temperature affects the sampling choice of the next predicted tokens. In short, the lower the temperature, the more deterministic the results, meaning the highest probable next token is always chosen. Increasing the temperature could lead to more randomness, encouraging more diverse or creative outputs.\n",
    "3. **top_p**:  top-p or nucleus sampling and temperature serve the same purpose in language models. Top-p sampling selected tokens from the smallest set whose cumulative probability surpasses a given threshold, denoted as ‘p’. Rather than sampling from the entire distribution of possible tokens, top-p sampling focuses on a subset with the highest probabilities. The default value is 1 and setting top-p to 0.1 means only tokens in the top 10% probability range are considered. It is not recommended to use temperature and top-p together.\n",
    "4. **frequency_penalty**: This parameter helps to reduce the repeated sampling of the same set of tokens. It instructs the language model to not use the same words too frequently. The mechanism works by directly adjusting the logits (un-normalized log probabilities) with an additive contribution. The default value is 0, and suitable penalty coefficients typically range from 0.1 to 1. A higher value means the model will be less inclined to reuse the same words, while a lower value implies a greater likelihood of repetitive word usage.\n",
    "5. **presence_penalty**: It can be used to encourage the model to use a diverse range of tokens in the generated text. It instructs the language model to utilize different words, promoting variety in the outputs. A higher presence_penalty value will result in the model being more likely to generate tokens that have not yet been included in the generated text. A higher presence_penalty value will result in the model being more likely to generate tokens that have not yet been included in the generated text.\n",
    "6. **logit_bias**: It acts as a tool to stop the model from generating specific, unwanted tokens or words. By using this parameter, you can control or exclude certain words from GPT’s output. It takes a JSON object that links token IDs to associated bias values ranging from -100 to 100. Essentially, this bias is mathematically added to the logits produced by the model before the sampling process. \r\n",
    "In short, assigning -100 to a selected token will effectively ban that token from being generated, while assigning 100 will ensure an exclusive selection of that token in the generated output.\n",
    "7. **seed**: seed is still in a beta feature, but it allows you to obtain consistent results for every input submitted to GPT. For instance, if you ask GPT to narrate a story about Pakist'san Political Situation, the generated story may vary each time you ask. However, using the seed will prompt the system to make its best attempt at deterministic sampling, ensuring you get the same result for a given input.\n",
    "8. **function_call(Deprecated)**: This parameter allows you to instruct the language model to perform a specific task before generating an answer to the user’s input. A common example is a weather application where the model lacks current weather data. In such cases, you can gather information from a weather API, incorporate that data into the prompt context, and then instruct the model to generate an answer using that context.\n",
    "9**logprobs**: Its value can be boolean or null. It specifies whether to return the log probabilities of the output token or not. If it is set to True, it will return log probabilities of each output token returned in the content of messages. Its default value is False.\n",
    "10. **top_logprobs**: Its value can be integer or null. An integer between 0 and 20 specifies the number of most likely tokens to return at each token position, each with an associated log probability. logprobs must be set to true if this parameter is used.\n",
    "11. **n**: It can be integer or null. How many chat completion choices to generate for each input message?\n",
    "12. **response_format** \n"
   ]
  },
  {
   "cell_type": "code",
   "execution_count": 5,
   "id": "41895279-7214-4e42-9aac-1088179a2f2e",
   "metadata": {},
   "outputs": [
    {
     "name": "stdout",
     "output_type": "stream",
     "text": [
      "ChatCompletion(id='chatcmpl-9yP0ipZW3QYj8XqrVkhhrZ72S5Fgr', choices=[Choice(finish_reason='stop', index=0, logprobs=None, message=ChatCompletionMessage(content=\"I'm sorry, but I cannot provide real-time weather updates. You can check a reliable weather website or a weather app on your device for the most current information.\", role='assistant', function_call=None, tool_calls=None, refusal=None))], created=1724182848, model='gpt-4o-mini-2024-07-18', object='chat.completion', system_fingerprint='fp_48196bc67a', usage=CompletionUsage(completion_tokens=32, prompt_tokens=23, total_tokens=55))\n"
     ]
    }
   ],
   "source": [
    "response = openai.chat.completions.create(\n",
    "  model=\"gpt-4o-mini\",\n",
    "  messages=[\n",
    "        {\"role\": \"system\", \"content\": \"You are a helpful assistant.\"},\n",
    "        {\"role\": \"user\", \"content\": \"What's the weather like today?\"}\n",
    "    ]\n",
    ")\n",
    "\n",
    "print(response)\n"
   ]
  },
  {
   "cell_type": "code",
   "execution_count": 7,
   "id": "dcf7425c-5a81-4b20-84fe-9799a780b2a9",
   "metadata": {},
   "outputs": [
    {
     "name": "stdout",
     "output_type": "stream",
     "text": [
      "ChatCompletion(id='chatcmpl-9yP2coVeZIsRH04D8XoH2Fy6qjMqO', choices=[Choice(finish_reason='length', index=0, logprobs=None, message=ChatCompletionMessage(content=\"Imran Khan, a prominent Pakistani politician and former cricketer, has had a significant impact on Pakistan's political and sports landscape. Here’s a\", role='assistant', function_call=None, tool_calls=None, refusal=None))], created=1724182966, model='gpt-4o-mini-2024-07-18', object='chat.completion', system_fingerprint='fp_507c9469a1', usage=CompletionUsage(completion_tokens=30, prompt_tokens=31, total_tokens=61))\n"
     ]
    }
   ],
   "source": [
    "response = openai.chat.completions.create(\n",
    "  model=\"gpt-4o-mini\",\n",
    "  messages=[\n",
    "        {\"role\": \"system\", \"content\": \"You are a helpful assistant.\"},\n",
    "        {\"role\": \"user\", \"content\": \"What do you think about imran khan? Tell me in detail\"}\n",
    "    ],\n",
    "    max_tokens=30\n",
    ")\n",
    "\n",
    "print(response)"
   ]
  },
  {
   "cell_type": "code",
   "execution_count": 8,
   "id": "29c5b419-16cd-4792-a4e8-096295792574",
   "metadata": {},
   "outputs": [
    {
     "name": "stdout",
     "output_type": "stream",
     "text": [
      "ChatCompletion(id='chatcmpl-9yP3GmiWPD8yOtK0DUsXsUOibNIE9', choices=[Choice(finish_reason='length', index=0, logprobs=None, message=ChatCompletionMessage(content='Imran Khan is a prominent figure in Pakistan, known for his multifaceted career as a cricketer, politician, and philanthropist. \\n\\n### Early Life and Cricket Career\\nBorn on October 5, 1952, in Lahore, Pakistan', role='assistant', function_call=None, tool_calls=None, refusal=None))], created=1724183006, model='gpt-4o-mini-2024-07-18', object='chat.completion', system_fingerprint='fp_48196bc67a', usage=CompletionUsage(completion_tokens=50, prompt_tokens=31, total_tokens=81))\n"
     ]
    }
   ],
   "source": [
    "response = openai.chat.completions.create(\n",
    "  model=\"gpt-4o-mini\",\n",
    "  messages=[\n",
    "        {\"role\": \"system\", \"content\": \"You are a helpful assistant.\"},\n",
    "        {\"role\": \"user\", \"content\": \"What do you think about imran khan? Tell me in detail\"}\n",
    "    ],\n",
    "    max_tokens=50\n",
    ")\n",
    "\n",
    "print(response)"
   ]
  },
  {
   "cell_type": "code",
   "execution_count": 10,
   "id": "0b88f5e6-670d-48a5-89f2-970297829f8a",
   "metadata": {},
   "outputs": [
    {
     "name": "stdout",
     "output_type": "stream",
     "text": [
      "ChatCompletion(id='chatcmpl-9yP4R4F2uTzwTnDZg0aJRijlxZBjh', choices=[Choice(finish_reason='stop', index=0, logprobs=None, message=ChatCompletionMessage(content='Imran Khan is a prominent figure in Pakistan, known for his multifaceted career as a cricketer, philanthropist, and politician. He gained international fame as a cricketer, leading the Pakistan national team to its first and only Cricket World Cup victory in 1992. After retiring from cricket, he founded the Shaukat Khanum Memorial Cancer Hospital & Research Centre, which reflects his commitment to philanthropy and healthcare in Pakistan.\\n\\nIn politics, he founded the Pakistan Tehreek-e-Insaf (PTI) party and served as the Prime Minister of Pakistan from August 2018 until April 2022. His tenure was marked by various challenges, including economic issues, foreign relations, and internal political dynamics. Supporters praise him for his vision of a welfare state and efforts to combat corruption, while critics point to economic difficulties and governance challenges during his time in office.\\n\\nImran Khan remains a polarizing figure in Pakistan, with a significant following as well as strong opposition. His impact on both sports and politics continues to shape discussions in the country.', role='assistant', function_call=None, tool_calls=None, refusal=None))], created=1724183079, model='gpt-4o-mini-2024-07-18', object='chat.completion', system_fingerprint='fp_48196bc67a', usage=CompletionUsage(completion_tokens=215, prompt_tokens=27, total_tokens=242))\n"
     ]
    }
   ],
   "source": [
    "response = openai.chat.completions.create(\n",
    "  model=\"gpt-4o-mini\",\n",
    "  messages=[\n",
    "        {\"role\": \"system\", \"content\": \"You are a helpful assistant.\"},\n",
    "        {\"role\": \"user\", \"content\": \"What do you think about imran khan?\"}\n",
    "    ],\n",
    "    temperature=0.2\n",
    ")\n",
    "\n",
    "print(response)"
   ]
  },
  {
   "cell_type": "code",
   "execution_count": 11,
   "id": "cace0d56-7f96-47c8-9cf9-bfb221653135",
   "metadata": {},
   "outputs": [
    {
     "name": "stdout",
     "output_type": "stream",
     "text": [
      "ChatCompletion(id='chatcmpl-9yP4oTw4TFGf5qZDP8B1tbfBwXCaY', choices=[Choice(finish_reason='stop', index=0, logprobs=None, message=ChatCompletionMessage(content='Imran Khan is a prominent figure in Pakistan, known for his multifaceted career as a cricketer, philanthropist, and politician. He gained international fame as a cricketer, leading the Pakistan national team to its first and only Cricket World Cup victory in 1992. After retiring from cricket, he focused on philanthropy, founding the Shaukat Khanum Memorial Cancer Hospital & Research Centre, which has been a significant contribution to healthcare in Pakistan.\\n\\nIn the political arena, Imran Khan founded the Pakistan Tehreek-e-Insaf (PTI) party and served as the Prime Minister of Pakistan from August 2018 until April 2022. His tenure was marked by various challenges, including economic issues, foreign relations, and internal political dynamics. Supporters praise him for his anti-corruption stance and efforts to improve social welfare, while critics point to economic difficulties and governance challenges during his time in office.\\n\\nOverall, Imran Khan is a polarizing figure, admired by many for his achievements in sports and philanthropy, while also facing criticism for his political decisions and governance.', role='assistant', function_call=None, tool_calls=None, refusal=None))], created=1724183102, model='gpt-4o-mini-2024-07-18', object='chat.completion', system_fingerprint='fp_48196bc67a', usage=CompletionUsage(completion_tokens=221, prompt_tokens=27, total_tokens=248))\n"
     ]
    }
   ],
   "source": [
    "response = openai.chat.completions.create(\n",
    "  model=\"gpt-4o-mini\",\n",
    "  messages=[\n",
    "        {\"role\": \"system\", \"content\": \"You are a helpful assistant.\"},\n",
    "        {\"role\": \"user\", \"content\": \"What do you think about imran khan?\"}\n",
    "    ],\n",
    "    temperature=0.2\n",
    ")\n",
    "\n",
    "print(response)"
   ]
  },
  {
   "cell_type": "code",
   "execution_count": 12,
   "id": "ff1c2848-9ce9-43d4-83d7-1e2fa1227935",
   "metadata": {},
   "outputs": [
    {
     "name": "stdout",
     "output_type": "stream",
     "text": [
      "ChatCompletion(id='chatcmpl-9yP5UJ1qV380Lb0pjmmpbjhQuZDdD', choices=[Choice(finish_reason='stop', index=0, logprobs=None, message=ChatCompletionMessage(content=\"Imran Khan is a significant figure in Pakistan, known for his multifaceted career as a cricketer, philanthropist, and politician. He gained international fame as a cricket player, leading the Pakistani national team to its first and only Cricket World Cup victory in 1992. Following his retirement from cricket, he focused on philanthropy, founding the Shaukat Khanum Memorial Cancer Hospital & Research Centre in Lahore.\\n\\nIn the political arena, Khan founded the Pakistan Tehreek-e-Insaf (PTI) party, which aimed to address issues such as corruption and governance in Pakistan. He served as the Prime Minister of Pakistan from August 2018 until April 2022. His tenure was marked by various economic challenges, social reforms, and foreign policy initiatives, but he also faced criticism and political opposition.\\n\\nKhan remains a polarizing figure in Pakistani politics, with a dedicated following as well as significant criticism. His impact on cricket, philanthropy, and politics has left a notable mark on the country. His supporters view him as a change-maker, while critics often express concerns about his governance and political tactics.\\n\\nOverall, Imran Khan's influence in Pakistan is profound, and he continues to be a central figure in the country's political landscape.\", role='assistant', function_call=None, tool_calls=None, refusal=None))], created=1724183144, model='gpt-4o-mini-2024-07-18', object='chat.completion', system_fingerprint='fp_48196bc67a', usage=CompletionUsage(completion_tokens=251, prompt_tokens=27, total_tokens=278))\n"
     ]
    }
   ],
   "source": [
    "response = openai.chat.completions.create(\n",
    "  model=\"gpt-4o-mini\",\n",
    "  messages=[\n",
    "        {\"role\": \"system\", \"content\": \"You are a helpful assistant.\"},\n",
    "        {\"role\": \"user\", \"content\": \"What do you think about imran khan?\"}\n",
    "    ],\n",
    "    temperature=0.8\n",
    ")\n",
    "\n",
    "print(response)"
   ]
  },
  {
   "cell_type": "code",
   "execution_count": 13,
   "id": "cc5f5602-7786-4e89-884a-a260f0fc5ccc",
   "metadata": {},
   "outputs": [
    {
     "name": "stdout",
     "output_type": "stream",
     "text": [
      "ChatCompletion(id='chatcmpl-9yP6ZGQXe2Mt3VJZkK8vB0l5a770p', choices=[Choice(finish_reason='stop', index=0, logprobs=None, message=ChatCompletionMessage(content='Imran Khan is a prominent figure in Pakistan, known for his multifaceted career as a cricketer, philanthropist, and politician. He first gained international fame as the captain of the Pakistan national cricket team, leading them to their first World Cup victory in 1992. Following his retirement from cricket, he focused on philanthropy, establishing the Shaukat Khanum Memorial Cancer Hospital & Research Centre and working on various social issues.\\n\\nIn politics, he founded the Pakistan Tehreek-e-Insaf (PTI) party and became Prime Minister of Pakistan in August 2018. His tenure has been marked by efforts to combat corruption, improve the economy, and navigate complex international relations, particularly with neighboring countries and the United States.\\n\\nOpinions about him vary widely. Supporters praise his vision for a \"New Pakistan\" and his efforts to address social issues, while critics often highlight challenges such as economic difficulties and governance issues. His political journey has been dynamic, with significant developments occurring in recent years, including challenges to his leadership.\\n\\nOverall, Imran Khan remains a significant and controversial figure in contemporary Pakistani politics and society.', role='assistant', function_call=None, tool_calls=None, refusal=None))], created=1724183211, model='gpt-4o-mini-2024-07-18', object='chat.completion', system_fingerprint='fp_48196bc67a', usage=CompletionUsage(completion_tokens=227, prompt_tokens=27, total_tokens=254))\n"
     ]
    }
   ],
   "source": [
    "response = openai.chat.completions.create(\n",
    "  model=\"gpt-4o-mini\",\n",
    "  messages=[\n",
    "        {\"role\": \"system\", \"content\": \"You are a helpful assistant.\"},\n",
    "        {\"role\": \"user\", \"content\": \"What do you think about imran khan?\"}\n",
    "    ],\n",
    "    top_p=0.8\n",
    ")\n",
    "\n",
    "print(response)"
   ]
  },
  {
   "cell_type": "code",
   "execution_count": 18,
   "id": "06fa3aed-6fcf-4f9d-8b0b-f14b449b1b33",
   "metadata": {},
   "outputs": [
    {
     "name": "stdout",
     "output_type": "stream",
     "text": [
      "ChatCompletion(id='chatcmpl-9yP7psJrUly0uyLshKGcZNQcj90yo', choices=[Choice(finish_reason='stop', index=0, logprobs=None, message=ChatCompletionMessage(content=\"Imran Khan is a prominent figure in Pakistan, known for his multifaceted career as a cricketer, philanthropist, and politician. He gained international fame as a cricketer, leading the Pakistan national team to its first and only Cricket World Cup victory in 1992. After retiring from cricket, he founded the Shaukat Khanum Memorial Cancer Hospital & Research Centre, which reflects his commitment to healthcare and philanthropy.\\n\\nIn politics, Imran Khan founded the Pakistan Tehreek-e-Insaf (PTI) party and served as the Prime Minister of Pakistan from August 2018 until April 2022. His tenure was marked by various challenges, including economic issues, foreign relations, and internal political dynamics. Supporters praise him for his anti-corruption stance and efforts to improve social welfare, while critics point to economic difficulties and governance challenges during his time in office.\\n\\nOverall, Imran Khan is a polarizing figure, admired by many for his achievements in sports and philanthropy, while also facing significant criticism in the political arena. His legacy continues to evolve as he remains an influential figure in Pakistan's political landscape.\", role='assistant', function_call=None, tool_calls=None, refusal=None))], created=1724183289, model='gpt-4o-mini-2024-07-18', object='chat.completion', system_fingerprint='fp_48196bc67a', usage=CompletionUsage(completion_tokens=229, prompt_tokens=27, total_tokens=256))\n"
     ]
    }
   ],
   "source": [
    "response = openai.chat.completions.create(\n",
    "  model=\"gpt-4o-mini\",\n",
    "  messages=[\n",
    "        {\"role\": \"system\", \"content\": \"You are a helpful assistant.\"},\n",
    "        {\"role\": \"user\", \"content\": \"What do you think about imran khan?\"}\n",
    "    ],\n",
    "    top_p=0.1\n",
    ")\n",
    "\n",
    "print(response)"
   ]
  },
  {
   "cell_type": "markdown",
   "id": "69639c83-3c0d-4c37-90b9-f921ff0b31dc",
   "metadata": {},
   "source": [
    "# Image Processing"
   ]
  },
  {
   "cell_type": "code",
   "execution_count": 1,
   "id": "28476ecc-cac6-4c7a-807e-d605c2b9d303",
   "metadata": {},
   "outputs": [],
   "source": [
    "import os # Included to Python\n",
    "from openai import OpenAI # OpenAI official Python package\n",
    "from IPython.display import Audio\n"
   ]
  },
  {
   "cell_type": "code",
   "execution_count": 3,
   "id": "a6035b09-7522-4157-ae71-efb95d562bd4",
   "metadata": {},
   "outputs": [],
   "source": [
    "client = OpenAI(\n",
    "    api_key=\"s\")"
   ]
  },
  {
   "cell_type": "code",
   "execution_count": 10,
   "id": "36f308e9-a512-4ce2-acd1-771fea54900b",
   "metadata": {},
   "outputs": [],
   "source": [
    "response = client.chat.completions.create(\n",
    "    model=\"gpt-4o\",\n",
    "    messages=[\n",
    "        {\n",
    "            \"role\": \"user\",\n",
    "            \"content\":[\n",
    "                {\"type\": \"text\", \"text\": \"What are your views about following image?\"},\n",
    "                {\"type\":\"image_url\", \"image_url\": {\n",
    "                     \"url\": \"data:image/jpeg;base64,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\"}\n",
    "                }\n",
    "\n",
    "                    ]\n",
    "        }\n",
    "    ],\n",
    "    max_tokens=300,\n",
    ")\n",
    "\n"
   ]
  },
  {
   "cell_type": "code",
   "execution_count": 11,
   "id": "7e764673-bcbc-44fb-a9b9-f316a810bf0f",
   "metadata": {},
   "outputs": [
    {
     "name": "stdout",
     "output_type": "stream",
     "text": [
      "This image features a fluffy white cat with striking green eyes. The cat appears to be gazing out of a window, seemingly lost in thought or observing something outside. The image is aesthetically pleasing, with soft lighting that enhances the cat's fur texture and eye color. It conveys a sense of calm and curiosity. Overall, it's a charming and serene image that captures a peaceful moment in the cat's life.\n"
     ]
    }
   ],
   "source": [
    "print(response.choices[0].message.content)"
   ]
  },
  {
   "cell_type": "code",
   "execution_count": null,
   "id": "ab1d06a3-930c-429b-9c46-c1f8da8b8a30",
   "metadata": {},
   "outputs": [],
   "source": []
  }
 ],
 "metadata": {
  "kernelspec": {
   "display_name": "Python 3 (ipykernel)",
   "language": "python",
   "name": "python3"
  },
  "language_info": {
   "codemirror_mode": {
    "name": "ipython",
    "version": 3
   },
   "file_extension": ".py",
   "mimetype": "text/x-python",
   "name": "python",
   "nbconvert_exporter": "python",
   "pygments_lexer": "ipython3",
   "version": "3.11.9"
  }
 },
 "nbformat": 4,
 "nbformat_minor": 5
}
