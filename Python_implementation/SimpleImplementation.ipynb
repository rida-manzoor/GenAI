{
 "cells": [
  {
   "cell_type": "code",
   "execution_count": 1,
   "id": "a8973557-8145-498d-a3de-d5b90e9bf86e",
   "metadata": {},
   "outputs": [],
   "source": [
    "import openai"
   ]
  },
  {
   "cell_type": "code",
   "execution_count": 2,
   "id": "4bf43a23-d5c6-4aa8-8468-a57e948e9311",
   "metadata": {},
   "outputs": [],
   "source": [
    "openai.api_key = \"xyz\""
   ]
  },
  {
   "cell_type": "code",
   "execution_count": 3,
   "id": "30134774-3084-410c-919f-6c00d66a996e",
   "metadata": {},
   "outputs": [],
   "source": [
    "# Using the ChatCompletion endpoint with the new API\n",
    "response = openai.chat.completions.create(\n",
    "    model=\"gpt-3.5-turbo\",  \n",
    "    messages=[\n",
    "        {\"role\": \"user\", \"content\": \"What is the capital of France?\"}\n",
    "    ],\n",
    "    max_tokens=1024,\n",
    "    temperature=0.5\n",
    ")"
   ]
  },
  {
   "cell_type": "code",
   "execution_count": 4,
   "id": "6e517be5-8d3f-48b2-8c72-414b4e48f302",
   "metadata": {},
   "outputs": [
    {
     "data": {
      "text/plain": [
       "ChatCompletion(id='chatcmpl-9x9dDe3qXFAQwYCKAflNk7Lk6ec7i', choices=[Choice(finish_reason='stop', index=0, logprobs=None, message=ChatCompletionMessage(content='The capital of France is Paris.', role='assistant', function_call=None, tool_calls=None, refusal=None))], created=1723885403, model='gpt-3.5-turbo-0125', object='chat.completion', system_fingerprint=None, usage=CompletionUsage(completion_tokens=7, prompt_tokens=14, total_tokens=21))"
      ]
     },
     "execution_count": 4,
     "metadata": {},
     "output_type": "execute_result"
    }
   ],
   "source": [
    "response"
   ]
  },
  {
   "cell_type": "markdown",
   "id": "b7672584-3a25-4140-920c-3c5f72ce6d48",
   "metadata": {},
   "source": [
    "# Open AI Chat Completion API Parameters:\n",
    "\n",
    "1. max_tokens:\n",
    "2. temperature:\n",
    "3. top_p:\n",
    "4. frequency_penalty:\n",
    "5. presence_penalty:\n",
    "6. logit_bias:\n",
    "7. seed:\n",
    "8. function_call:\n",
    "9. \n"
   ]
  },
  {
   "cell_type": "code",
   "execution_count": null,
   "id": "41895279-7214-4e42-9aac-1088179a2f2e",
   "metadata": {},
   "outputs": [],
   "source": []
  }
 ],
 "metadata": {
  "kernelspec": {
   "display_name": "Python 3 (ipykernel)",
   "language": "python",
   "name": "python3"
  },
  "language_info": {
   "codemirror_mode": {
    "name": "ipython",
    "version": 3
   },
   "file_extension": ".py",
   "mimetype": "text/x-python",
   "name": "python",
   "nbconvert_exporter": "python",
   "pygments_lexer": "ipython3",
   "version": "3.11.9"
  }
 },
 "nbformat": 4,
 "nbformat_minor": 5
}
